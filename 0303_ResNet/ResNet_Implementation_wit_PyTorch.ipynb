{
 "cells": [
  {
   "cell_type": "markdown",
   "metadata": {
    "toc": true
   },
   "source": [
    "<h1>Table of Contents<span class=\"tocSkip\"></span></h1>\n",
    "<div class=\"toc\"><ul class=\"toc-item\"><li><span><a href=\"#PyTorch\" data-toc-modified-id=\"PyTorch-1\">PyTorch</a></span><ul class=\"toc-item\"><li><span><a href=\"#PyTorch-설치\" data-toc-modified-id=\"PyTorch-설치-1.1\">PyTorch 설치</a></span><ul class=\"toc-item\"><li><span><a href=\"#MacOS-with-M1\" data-toc-modified-id=\"MacOS-with-M1-1.1.1\">MacOS with M1</a></span></li></ul></li><li><span><a href=\"#PyTorch-기본-문법\" data-toc-modified-id=\"PyTorch-기본-문법-1.2\">PyTorch 기본 문법</a></span></li></ul></li><li><span><a href=\"#ResNet-구현\" data-toc-modified-id=\"ResNet-구현-2\">ResNet 구현</a></span><ul class=\"toc-item\"><li><span><a href=\"#기본-구조-설명\" data-toc-modified-id=\"기본-구조-설명-2.1\">기본 구조 설명</a></span></li><li><span><a href=\"#1.-데이터-불러오기\" data-toc-modified-id=\"1.-데이터-불러오기-2.2\">1. 데이터 불러오기</a></span></li><li><span><a href=\"#2.-구조-만들기\" data-toc-modified-id=\"2.-구조-만들기-2.3\">2. 구조 만들기</a></span><ul class=\"toc-item\"><li><span><a href=\"#Residual-Block\" data-toc-modified-id=\"Residual-Block-2.3.1\">Residual Block</a></span></li><li><span><a href=\"#ResNet-34\" data-toc-modified-id=\"ResNet-34-2.3.2\">ResNet-34</a></span></li></ul></li><li><span><a href=\"#3.-모형-학습\" data-toc-modified-id=\"3.-모형-학습-2.4\">3. 모형 학습</a></span></li></ul></li></ul></div>"
   ]
  },
  {
   "cell_type": "markdown",
   "metadata": {},
   "source": [
    "아래 모든 코드는 `Google Colab`에서 실행"
   ]
  },
  {
   "cell_type": "markdown",
   "metadata": {
    "id": "dKq0ocmJV4Oq"
   },
   "source": [
    "# PyTorch\n",
    "\n",
    "<p align=\"center\"><img src=\"https://img1.daumcdn.net/thumb/R1280x0/?scode=mtistory2&fname=https%3A%2F%2Fblog.kakaocdn.net%2Fdn%2Fk8SLv%2Fbtq2gxiXKs3%2F0sSDRS2o28lCIXdLdNK9Vk%2Fimg.png\"></p>\n",
    "\n",
    "<br>\n",
    "\n",
    "* 2016년 발표된 파이썬 기반 오픈소스 머신러닝/딥러닝 라이브러리\n",
    "\n",
    "* `Numpy`, `Pandas` 등 데이터를 다룰 때 이용되는 기본 툴과 연계해서 쓸 수 있고, 구현이 쉽고 빠르다는 것이 장점\n",
    "\n"
   ]
  },
  {
   "cell_type": "markdown",
   "metadata": {
    "id": "bUylHL9mfMrq"
   },
   "source": [
    "## PyTorch 설치\n",
    "\n",
    "* 우선 사전에 `Anaconda`가 설치된 환경이라고 가정.\n",
    "\n",
    "* https://pytorch.org 에 접속해 설치환경을 선택해주면, \n",
    "\n",
    "    <p align=\"center\"><img src=\"https://hsy5830.github.io/assets/images/pytorch_install.png\" width=\"600\"></p>\n",
    "    \n",
    "    아래와 같은 코드를 얻을 수 있다.\n",
    "\n",
    "    \n",
    "* MacOS에선 terminal 창에 해당 코드를 입력해주면,\n",
    "\n",
    "<p align=\"center\"><img src=\"https://hsy5830.github.io/assets/images/pytorch_install2.png\" width=\"600\"></p>\n",
    "\n",
    "와 같은 화면이 나오고, 중간에 'y'를 한 번 눌러주면 설치는 완료된다.\n"
   ]
  },
  {
   "cell_type": "markdown",
   "metadata": {
    "id": "JPgU_VxHVsc5"
   },
   "source": [
    "### MacOS with M1\n",
    "\n",
    "* M1 맥의 경우엔 아직 호환이 완전히 되지 않아 가상환경에서 PyTorch를 설치해서 사용해야 한다.\n",
    "\n",
    "    ```bash\n",
    "    # 가상환경 생성\n",
    "    # 가상환경 이름 : HDMT-torch (임의로 설정가능)\n",
    "    % conda create --name HDMT-torch python=3.8\n",
    "\n",
    "    # pytorch 다운로드\n",
    "    % conda activate HDMT-torch\n",
    "    % conda install -c conda-forge pytorch=1.9.0\n",
    "\n",
    "    # 설치 확인\n",
    "    % python\n",
    "    >>> import torch\n",
    "    >>> x = torch.rand(5,3)\n",
    "    >>> print(x)\n",
    "    ```\n",
    "\n",
    "<br>\n",
    "\n",
    "* Jupyter notebook 과 연결\n",
    "\n",
    "    ```bash\n",
    "    # 가상환경에 jupyter notebook 설치\n",
    "    % conda activate DL-torch\n",
    "    % conda install jupyter notebook\n",
    "\n",
    "    # 가상환경의 jupyter notebook 과 local의 jupyter 를 kernel로 연결\n",
    "    % python -m ipykernel install --user --name HDMT-torch --display-name \"PyTorch_kernel\"\n",
    "\n",
    "    # kernel 연결 해제를 위한 코드\n",
    "    % jupyter kernelspec uninstall \"PyTorch_kernel\"\n",
    "    ```\n"
   ]
  },
  {
   "cell_type": "markdown",
   "metadata": {
    "id": "qVFRjHpufhOZ"
   },
   "source": [
    "<br>\n",
    "\n",
    "## PyTorch 기본 문법"
   ]
  },
  {
   "cell_type": "markdown",
   "metadata": {
    "id": "poaWEcCbfhOZ"
   },
   "source": [
    "* PyTorch 에서는 `Tensor`라는 자료 구조를 사용한다."
   ]
  },
  {
   "cell_type": "code",
   "execution_count": null,
   "metadata": {
    "ExecuteTime": {
     "end_time": "2022-03-03T09:57:30.870091Z",
     "start_time": "2022-03-03T09:57:30.837899Z"
    },
    "colab": {
     "base_uri": "https://localhost:8080/"
    },
    "id": "xEZ7RWGyfhOa",
    "outputId": "fc985d39-2ad7-4e88-d387-fe47fb366ff3"
   },
   "outputs": [
    {
     "name": "stdout",
     "output_type": "stream",
     "text": [
      "tensor([0., 1., 2., 3., 4., 5., 6.])\n"
     ]
    }
   ],
   "source": [
    "import torch\n",
    "\n",
    "t = torch.FloatTensor([0., 1., 2., 3., 4., 5., 6.])\n",
    "print(t)"
   ]
  },
  {
   "cell_type": "markdown",
   "metadata": {
    "ExecuteTime": {
     "end_time": "2022-03-03T09:58:16.513691Z",
     "start_time": "2022-03-03T09:58:16.508812Z"
    },
    "id": "RUeDYZMbVskp"
   },
   "source": [
    "* 기본적인 데이터 다루는 방법은 `numpy`와 거의 비슷하게 적용된다."
   ]
  },
  {
   "cell_type": "code",
   "execution_count": null,
   "metadata": {
    "ExecuteTime": {
     "end_time": "2022-03-03T11:08:36.703069Z",
     "start_time": "2022-03-03T11:08:36.700058Z"
    },
    "colab": {
     "base_uri": "https://localhost:8080/"
    },
    "id": "3ntvb6_ufhOc",
    "outputId": "66f67857-7486-4b29-9a7c-5303072bd193"
   },
   "outputs": [
    {
     "data": {
      "text/plain": [
       "tensor([0, 1, 2, 3, 4, 5])"
      ]
     },
     "execution_count": 3,
     "metadata": {},
     "output_type": "execute_result"
    }
   ],
   "source": [
    "t = torch.arange(6)\n",
    "t"
   ]
  },
  {
   "cell_type": "code",
   "execution_count": null,
   "metadata": {
    "ExecuteTime": {
     "end_time": "2022-03-03T11:12:26.566617Z",
     "start_time": "2022-03-03T11:12:26.563935Z"
    },
    "colab": {
     "base_uri": "https://localhost:8080/"
    },
    "id": "vXGcDXRyfhOc",
    "outputId": "0f2cdd2d-7f7f-4349-dbf4-8771166a8e7c"
   },
   "outputs": [
    {
     "data": {
      "text/plain": [
       "tensor([ 0,  3,  6,  9, 12, 15])"
      ]
     },
     "execution_count": 4,
     "metadata": {},
     "output_type": "execute_result"
    }
   ],
   "source": [
    "t * 3"
   ]
  },
  {
   "cell_type": "code",
   "execution_count": null,
   "metadata": {
    "ExecuteTime": {
     "end_time": "2022-03-03T11:09:45.107994Z",
     "start_time": "2022-03-03T11:09:45.105703Z"
    },
    "colab": {
     "base_uri": "https://localhost:8080/"
    },
    "id": "LLVf9KPxfhOc",
    "outputId": "2649356b-71e5-43f4-9f1d-34a8dd0beba5"
   },
   "outputs": [
    {
     "name": "stdout",
     "output_type": "stream",
     "text": [
      "1\n",
      "torch.Size([6])\n",
      "torch.Size([6])\n"
     ]
    }
   ],
   "source": [
    "print(t.dim())\n",
    "print(t.size())\n",
    "print(t.shape)"
   ]
  },
  {
   "cell_type": "markdown",
   "metadata": {
    "id": "XTrTQwgzlWL6"
   },
   "source": [
    "* PyTorch 에선 CPU, GPU 타입의 Tensor를 각각 생성할 수 있다."
   ]
  },
  {
   "cell_type": "code",
   "execution_count": null,
   "metadata": {
    "ExecuteTime": {
     "end_time": "2022-03-03T11:14:25.547490Z",
     "start_time": "2022-03-03T11:14:25.539612Z"
    },
    "colab": {
     "base_uri": "https://localhost:8080/"
    },
    "id": "oVm24pikVtRe",
    "outputId": "1f8c9873-601d-4510-d6d2-9081463b5204"
   },
   "outputs": [
    {
     "data": {
      "text/plain": [
       "tensor([[1., 2., 3.],\n",
       "        [4., 5., 6.]], device='cuda:0')"
      ]
     },
     "execution_count": 6,
     "metadata": {},
     "output_type": "execute_result"
    }
   ],
   "source": [
    "x = torch.FloatTensor([[1,2,3],[4,5,6]])\n",
    "x_gpu = x.cuda()\n",
    "x_gpu"
   ]
  },
  {
   "cell_type": "code",
   "execution_count": null,
   "metadata": {
    "colab": {
     "base_uri": "https://localhost:8080/"
    },
    "id": "u-Lgbe3NV0J6",
    "outputId": "78d7404a-85a8-4dfc-cbca-f3687222e72a"
   },
   "outputs": [
    {
     "data": {
      "text/plain": [
       "tensor([[1., 2., 3.],\n",
       "        [4., 5., 6.]])"
      ]
     },
     "execution_count": 7,
     "metadata": {},
     "output_type": "execute_result"
    }
   ],
   "source": [
    "x_cpu = x_gpu.cpu()\n",
    "x_cpu"
   ]
  },
  {
   "cell_type": "markdown",
   "metadata": {},
   "source": [
    "<br>\n",
    "\n",
    "* 자동 미분 (auto_grad)\n",
    "\n",
    "$$y = w^2, \\quad z = 2y+5$$\n",
    "\n",
    "에서, 미분을 구하면\n",
    "\n",
    "$$\n",
    "\\begin{aligned}\n",
    "\\frac{dy}{dw} &= 2w \\\\\n",
    "\\frac{dz}{dw} &= \\frac{dz}{dw} \\times \\frac{dz}{dw}\\\\\n",
    "              &= 4w\n",
    "\\end{aligned}\n",
    "$$"
   ]
  },
  {
   "cell_type": "code",
   "execution_count": 1,
   "metadata": {
    "ExecuteTime": {
     "end_time": "2022-03-04T04:05:39.428367Z",
     "start_time": "2022-03-04T04:05:38.451687Z"
    }
   },
   "outputs": [],
   "source": [
    "import torch\n",
    "w = torch.tensor(3.0, requires_grad=True)\n",
    "\n",
    "y = w**2\n",
    "z = 2*y + 5"
   ]
  },
  {
   "cell_type": "code",
   "execution_count": 2,
   "metadata": {
    "ExecuteTime": {
     "end_time": "2022-03-04T04:05:39.440841Z",
     "start_time": "2022-03-04T04:05:39.438548Z"
    }
   },
   "outputs": [
    {
     "name": "stdout",
     "output_type": "stream",
     "text": [
      "수식을 w로 미분한 값 : 12.0\n"
     ]
    }
   ],
   "source": [
    "z.backward()\n",
    "print('수식을 w로 미분한 값 : {}'.format(w.grad))"
   ]
  },
  {
   "cell_type": "markdown",
   "metadata": {
    "id": "4O35vh3SZ7ox"
   },
   "source": [
    "<br>\n",
    "\n",
    "# ResNet 구현\n",
    "\n",
    "<br>\n",
    "\n",
    "## 기본 구조 설명\n",
    "\n",
    "* ResNet은 아래 그림에 보이는 residual block을 쌓아서 만든 CNN 구조이다.\n",
    "\n",
    "    <p align=\"center\"><img src=\"https://d2l.ai/_images/residual-block.svg\" width=\"400\"></p>\n",
    "    \n",
    "    \n",
    "* [Deep Residual Learning for Image Recognition, Kaiming He, 2015](https://arxiv.org/pdf/1512.03385.pdf) 에서는 총 layer의 개수에 따라 ResNet-18, 34, 50, 101, 152의 5가지 네트워크가 있다. 아래 그림은 ResNet-34의 구조.\n",
    "\n",
    "    <p align=\"center\"><img src=\"https://media.vlpt.us/images/kangtae/post/23776654-5e13-4020-bdc0-ba8ac3c20ebc/1.backward_and_frowardpass_in_ResNet.JPG\" width=\"800\"></p>"
   ]
  },
  {
   "cell_type": "markdown",
   "metadata": {
    "ExecuteTime": {
     "end_time": "2022-03-03T15:31:43.034938Z",
     "start_time": "2022-03-03T15:31:43.032212Z"
    },
    "id": "0x3tuVuVZ7ox"
   },
   "source": [
    "[코드로 구현해야 할 함수, 구조]\n",
    "    \n",
    "* 데이터 불러오기, normalization\n",
    "\n",
    "* Residual block & ResNet 구조\n",
    "\n",
    "* loss function, metric 계산 함수\n",
    "\n",
    "* 최종 학습 함수\n",
    "\n",
    "<br>"
   ]
  },
  {
   "cell_type": "markdown",
   "metadata": {
    "ExecuteTime": {
     "end_time": "2022-03-03T15:31:53.506364Z",
     "start_time": "2022-03-03T15:31:53.503604Z"
    },
    "id": "swvnEcfLZ7ox"
   },
   "source": [
    "## 1. 데이터 불러오기\n",
    "\n",
    "<br>\n",
    "\n",
    "<p align=\"center\"><img src=\"https://production-media.paperswithcode.com/datasets/CIFAR-10-0000000431-b71f61c0_U5n3Glr.jpg\" width=\"500\"></p>\n",
    "\n",
    "* 직접 학습해보기 위해 논문에서 사용한 데이터보다 크기가 상대적으로 작은 STL10 데이터 셋을 이용한다.\n",
    "\n",
    "* torchvision 패키지에서 제공하는 데이터 셋.\n",
    "\n",
    "* 10개의 class가 지정되어 있다.\n",
    "\n",
    "<br>\n",
    "\n",
    "\n"
   ]
  },
  {
   "cell_type": "code",
   "execution_count": 4,
   "metadata": {
    "id": "xIUb7WVbV0hf"
   },
   "outputs": [],
   "source": [
    "### import packages\n",
    "\n",
    "# For model\n",
    "import torch\n",
    "import torch.nn as nn                        # 기초 구조인 convolution layer, activation function, loss\n",
    "import torch.nn.functional as F\n",
    "from torchsummary import summary             # Network 구조를 출력할 때 이용.\n",
    "from torch import optim                      # optimization function\n",
    "from torch.optim.lr_scheduler import StepLR  # 변화하는 learning rate 추적\n",
    "\n",
    "# For dataset and transformation\n",
    "from torchvision import datasets             # torch와 함께 사용되는 computer vision 분야의 데이터, 모델\n",
    "import torchvision.transforms as transforms  # 데이터 전처리에 이용\n",
    "from torch.utils.data import DataLoader      # 가공된 데이터를 pytorch 모형에서 사용되는 form으로\n",
    "import os\n",
    "\n",
    "# For displaying images\n",
    "from torchvision import utils\n",
    "import matplotlib.pyplot as plt\n",
    "%matplotlib inline\n",
    "\n",
    "# utils\n",
    "import numpy as np\n",
    "import time\n",
    "import copy"
   ]
  },
  {
   "cell_type": "markdown",
   "metadata": {
    "id": "qO6tEgG5V0m8"
   },
   "source": [
    "<br>\n",
    "\n",
    "* 데이터 셋 다운경로 지정, 불러오기"
   ]
  },
  {
   "cell_type": "code",
   "execution_count": 5,
   "metadata": {
    "colab": {
     "base_uri": "https://localhost:8080/",
     "height": 100,
     "referenced_widgets": [
      "d862c86b38df423e824d063a099e71d4",
      "f2196e9d116e4b67a2fcb10da303d183",
      "deae1c9e51194615a56821178e864751",
      "b718a69fdf3c433f94dcd4452e718ad1",
      "cf7d5bfa6e2b49708f00010f1d81d309",
      "5485845915ef4a7881f7eff2c665fe85",
      "8c6d268540134303b4e5dca006efa783",
      "05b3b5d44cff48fd81c16ece310202cd",
      "3ba1859b61e043aa90f5654b3cee81df",
      "a5d1fa47473a4881be9c1d4978544572",
      "e10dc7702a0347b4b97c961070a0a9ce"
     ]
    },
    "id": "S6MnnVZeV0tb",
    "outputId": "2e755088-544c-427e-9d3d-5c4c83fe62a7"
   },
   "outputs": [
    {
     "name": "stdout",
     "output_type": "stream",
     "text": [
      "Downloading http://ai.stanford.edu/~acoates/stl10/stl10_binary.tar.gz to /Users/user5/opt/Jupyter/ResNet_Torch/stl10_binary.tar.gz\n"
     ]
    },
    {
     "data": {
      "application/vnd.jupyter.widget-view+json": {
       "model_id": "d862c86b38df423e824d063a099e71d4",
       "version_major": 2,
       "version_minor": 0
      },
      "text/plain": [
       "  0%|          | 0/2640397119 [00:00<?, ?it/s]"
      ]
     },
     "metadata": {},
     "output_type": "display_data"
    },
    {
     "name": "stdout",
     "output_type": "stream",
     "text": [
      "Extracting /Users/user5/opt/Jupyter/ResNet_Torch/stl10_binary.tar.gz to /Users/user5/opt/Jupyter/ResNet_Torch\n",
      "Files already downloaded and verified\n"
     ]
    }
   ],
   "source": [
    "# 경로 지정\n",
    "path2data = '/Users/user5/opt/Jupyter/ResNet_Torch'\n",
    "\n",
    "# 데이터 불러오기\n",
    "train_ds = datasets.STL10(path2data, split='train', download=True, transform=transforms.ToTensor())\n",
    "val_ds = datasets.STL10(path2data, split='test', download=True, transform=transforms.ToTensor())"
   ]
  },
  {
   "cell_type": "markdown",
   "metadata": {
    "id": "D3b2AcH9V0yA"
   },
   "source": [
    "<br>\n",
    "\n",
    "* 다운받은 데이터를 R, G, B 별로 normalization"
   ]
  },
  {
   "cell_type": "code",
   "execution_count": 6,
   "metadata": {
    "colab": {
     "base_uri": "https://localhost:8080/"
    },
    "id": "TaOwZKV6V029",
    "outputId": "fe4fbb78-9501-42c9-d099-35c53b08e32b"
   },
   "outputs": [
    {
     "name": "stdout",
     "output_type": "stream",
     "text": [
      "0.4467106 0.43980986 0.40664646\n",
      "0.44723064 0.4396425 0.40495726\n"
     ]
    }
   ],
   "source": [
    "# train 데이터에 각각에 대한 R, G, B값의 평균, 표준편차.\n",
    "# 각 데이터는 3개의 값을 갖는다고 볼 수 있다.\n",
    "train_meanRGB = [np.mean(x.numpy(), axis=(1,2)) for x, _ in train_ds]\n",
    "train_stdRGB = [np.std(x.numpy(), axis=(1,2)) for x, _ in train_ds]\n",
    "\n",
    "# 전체 데이터의 R, G, B 값에 대한 평균, 표준편차.\n",
    "train_meanR = np.mean([m[0] for m in train_meanRGB])\n",
    "train_meanG = np.mean([m[1] for m in train_meanRGB])\n",
    "train_meanB = np.mean([m[2] for m in train_meanRGB])\n",
    "train_stdR = np.mean([s[0] for s in train_stdRGB])\n",
    "train_stdG = np.mean([s[1] for s in train_stdRGB])\n",
    "train_stdB = np.mean([s[2] for s in train_stdRGB])\n",
    "\n",
    "# For validation set\n",
    "val_meanRGB = [np.mean(x.numpy(), axis=(1,2)) for x, _ in val_ds]\n",
    "val_stdRGB = [np.std(x.numpy(), axis=(1,2)) for x, _ in val_ds]\n",
    "\n",
    "val_meanR = np.mean([m[0] for m in val_meanRGB])\n",
    "val_meanG = np.mean([m[1] for m in val_meanRGB])\n",
    "val_meanB = np.mean([m[2] for m in val_meanRGB])\n",
    "\n",
    "val_stdR = np.mean([s[0] for s in val_stdRGB])\n",
    "val_stdG = np.mean([s[1] for s in val_stdRGB])\n",
    "val_stdB = np.mean([s[2] for s in val_stdRGB])\n",
    "\n",
    "print(train_meanR, train_meanG, train_meanB)\n",
    "print(val_meanR, val_meanG, val_meanB)"
   ]
  },
  {
   "cell_type": "markdown",
   "metadata": {
    "id": "OZwCev87rZbd"
   },
   "source": [
    "<br>\n",
    "\n",
    "* 데이터를\n",
    "    * tensor형 데이터\n",
    "    * 224 x 224 사이즈로 조절\n",
    "    * Normalization"
   ]
  },
  {
   "cell_type": "code",
   "execution_count": 7,
   "metadata": {
    "id": "2q-8wnJerZXk"
   },
   "outputs": [],
   "source": [
    "# Transformation 정의\n",
    "train_transformation = transforms.Compose([\n",
    "                        transforms.ToTensor(),\n",
    "                        transforms.Resize(224),\n",
    "                        transforms.Normalize([train_meanR, train_meanG, train_meanB],[train_stdR, train_stdG, train_stdB]),\n",
    "])\n",
    "\n",
    "val_transformation = transforms.Compose([\n",
    "                        transforms.ToTensor(),\n",
    "                        transforms.Resize(224),\n",
    "                        transforms.Normalize([train_meanR, train_meanG, train_meanB],[train_stdR, train_stdG, train_stdB]),\n",
    "])"
   ]
  },
  {
   "cell_type": "code",
   "execution_count": 8,
   "metadata": {
    "id": "wN5gyYgZrZNI"
   },
   "outputs": [],
   "source": [
    "# 정의한 transformation 적용\n",
    "train_ds.transform = train_transformation\n",
    "val_ds.transform = val_transformation\n",
    "\n",
    "# 가공한 데이터를 이용해 DataLoader 생성\n",
    "train_dl = DataLoader(train_ds, batch_size=32, shuffle=True)\n",
    "val_dl = DataLoader(val_ds, batch_size=32, shuffle=True)"
   ]
  },
  {
   "cell_type": "markdown",
   "metadata": {
    "id": "DKlEqIlDrc43"
   },
   "source": [
    "<br>\n",
    "\n",
    "* 샘플 이미지 시각화"
   ]
  },
  {
   "cell_type": "code",
   "execution_count": 9,
   "metadata": {
    "colab": {
     "base_uri": "https://localhost:8080/",
     "height": 182
    },
    "id": "RtFxW2e6rc2g",
    "outputId": "cec82a09-e22d-4ab1-eda1-7582aed83ec7"
   },
   "outputs": [
    {
     "name": "stderr",
     "output_type": "stream",
     "text": [
      "Clipping input data to the valid range for imshow with RGB data ([0..1] for floats or [0..255] for integers).\n"
     ]
    },
    {
     "name": "stdout",
     "output_type": "stream",
     "text": [
      "image indices: [3112 1193 2540 1692]\n"
     ]
    },
    {
     "data": {
      "image/png": "[encoded data removed]",
      "text/plain": [
       "<Figure size 432x288 with 1 Axes>"
      ]
     },
     "metadata": {
      "needs_background": "light"
     },
     "output_type": "display_data"
    }
   ],
   "source": [
    "# display sample images \n",
    "def show(img, y=None, color=True):\n",
    "    npimg = img.numpy()\n",
    "    npimg_tr = np.transpose(npimg, (1,2,0))\n",
    "    plt.imshow(npimg_tr)\n",
    "\n",
    "    if y is not None:\n",
    "        plt.title('labels :' + str(y))\n",
    "\n",
    "# np.random.seed(1)\n",
    "# torch.manual_seed(1)\n",
    "\n",
    "grid_size = 4\n",
    "rnd_inds = np.random.randint(0, len(train_ds), grid_size)\n",
    "print('image indices:',rnd_inds)\n",
    "\n",
    "x_grid = [train_ds[i][0] for i in rnd_inds]\n",
    "y_grid = [train_ds[i][1] for i in rnd_inds]\n",
    "\n",
    "x_grid = utils.make_grid(x_grid, nrow=grid_size, padding=2)\n",
    "\n",
    "show(x_grid, y_grid)"
   ]
  },
  {
   "cell_type": "markdown",
   "metadata": {
    "id": "YCYcDT7Frcwx"
   },
   "source": [
    "## 2. 구조 만들기\n",
    "\n",
    "<br>\n",
    "\n",
    "### Residual Block\n",
    "\n",
    "<p align=\"center\"><img src=\"https://d2l.ai/_images/resnet-block.svg\" width=\"500\"></p>"
   ]
  },
  {
   "cell_type": "code",
   "execution_count": 10,
   "metadata": {
    "id": "2g6eNdM-rcub"
   },
   "outputs": [],
   "source": [
    "class BasicBlock(nn.Module):\n",
    "    # channel 수 늘어날 때, output의 차원 조절\n",
    "    expansion = 1\n",
    "    \n",
    "    def __init__(self, in_channels, out_channels, stride=1):\n",
    "        super().__init__()\n",
    "\n",
    "        # Conv -> BN -> ReLU -> Conv -> BN\n",
    "        # nn.Sequential은 각각의 층을 쌓아주는 역할\n",
    "        self.residual_function = nn.Sequential(\n",
    "            nn.Conv2d(in_channels, out_channels, kernel_size=3, stride=stride, padding=1, bias=False),\n",
    "            nn.BatchNorm2d(out_channels),\n",
    "            nn.ReLU(),\n",
    "            nn.Conv2d(out_channels, out_channels * BasicBlock.expansion, kernel_size=3, stride=1, padding=1, bias=False),\n",
    "            nn.BatchNorm2d(out_channels * BasicBlock.expansion),\n",
    "        )\n",
    "\n",
    "        # identity mapping(input과 output의 feature map size, filter 수가 동일한 경우 사용.)\n",
    "        self.shortcut = nn.Sequential()\n",
    "\n",
    "        self.relu = nn.ReLU()\n",
    "\n",
    "        # projection mapping(in, out의 차원이 다를 때)\n",
    "        if stride != 1 or in_channels != BasicBlock.expansion * out_channels:\n",
    "            self.shortcut = nn.Sequential(\n",
    "                nn.Conv2d(in_channels, out_channels * BasicBlock.expansion, kernel_size=1, stride=stride, bias=False),\n",
    "                nn.BatchNorm2d(out_channels * BasicBlock.expansion)\n",
    "            )\n",
    "\n",
    "    def forward(self, x):\n",
    "        x = self.residual_function(x) + self.shortcut(x)\n",
    "        x = self.relu(x)\n",
    "        return x"
   ]
  },
  {
   "cell_type": "markdown",
   "metadata": {
    "id": "tB9zNHDtrZI9"
   },
   "source": [
    "### ResNet-34\n",
    "\n",
    "<p align=\"center\"><img src=\"https://editor.analyticsvidhya.com/uploads/38371XTo6Q.png\" width=\"400\"></p>\n",
    "\n",
    "<br>\n",
    "\n",
    "<p align=\"center\"><img src=\"https://pytorch.org/assets/images/resnet.png\" width=\"700\"></p>"
   ]
  },
  {
   "cell_type": "code",
   "execution_count": 11,
   "metadata": {
    "id": "zh6FOImbrZG3"
   },
   "outputs": [],
   "source": [
    "class ResNet(nn.Module):\n",
    "    def __init__(self, block, num_block, num_classes=10, init_weights=True):\n",
    "        # block : 위에서 정의한 Residual Block\n",
    "        # num_block : 파트 별 각 block 의 개수\n",
    "        super().__init__()\n",
    "        \n",
    "        # filter 개수 64개로 시작\n",
    "        self.in_channels=64\n",
    "        \n",
    "        ## ResNet-34 그림에서 구분된 색깔별로 conv1, ..., conv5\n",
    "        # 첫 번째 7 x 7 conv\n",
    "        self.conv1 = nn.Sequential(\n",
    "            nn.Conv2d(3, 64, kernel_size=7, stride=2, padding=3, bias=False),\n",
    "            nn.BatchNorm2d(64),\n",
    "            nn.ReLU(),\n",
    "            nn.MaxPool2d(kernel_size=3, stride=2, padding=1)\n",
    "        )\n",
    "        \n",
    "        # identity mapping 이용한 3 x 3 conv\n",
    "        self.conv2_x = self._make_layer(block, 64, num_block[0], 1)\n",
    "        self.conv3_x = self._make_layer(block, 128, num_block[1], 2)\n",
    "        self.conv4_x = self._make_layer(block, 256, num_block[2], 2)\n",
    "        self.conv5_x = self._make_layer(block, 512, num_block[3], 2)\n",
    "        \n",
    "        # output layer\n",
    "        self.avg_pool = nn.AdaptiveAvgPool2d((1,1))\n",
    "        self.fc = nn.Linear(512 * block.expansion, num_classes)\n",
    "\n",
    "        # weight 초기화\n",
    "        if init_weights:\n",
    "            self._initialize_weights()\n",
    "\n",
    "    def _make_layer(self, block, out_channels, num_blocks, stride):\n",
    "        strides = [stride] + [1] * (num_blocks - 1)\n",
    "        layers = []\n",
    "        for stride in strides:\n",
    "            layers.append(block(self.in_channels, out_channels, stride))\n",
    "            self.in_channels = out_channels * block.expansion\n",
    "\n",
    "        return nn.Sequential(*layers)\n",
    "\n",
    "    def forward(self,x):\n",
    "        output = self.conv1(x)\n",
    "        output = self.conv2_x(output)\n",
    "        x = self.conv3_x(output)\n",
    "        x = self.conv4_x(x)\n",
    "        x = self.conv5_x(x)\n",
    "        x = self.avg_pool(x)\n",
    "        x = x.view(x.size(0), -1) # -1 : 자동으로 차원 맞춰준다. \n",
    "        x = self.fc(x)\n",
    "        return x\n",
    "\n",
    "    # define weight initialization function\n",
    "    def _initialize_weights(self):\n",
    "        for m in self.modules():\n",
    "            if isinstance(m, nn.Conv2d):\n",
    "                nn.init.kaiming_normal_(m.weight, mode='fan_out', nonlinearity='relu')\n",
    "                if m.bias is not None:\n",
    "                    nn.init.constant_(m.bias, 0)\n",
    "            elif isinstance(m, nn.BatchNorm2d):\n",
    "                nn.init.constant_(m.weight, 1)\n",
    "                nn.init.constant_(m.bias, 0)\n",
    "            elif isinstance(m, nn.Linear):\n",
    "                nn.init.normal_(m.weight, 0, 0.01)\n",
    "                nn.init.constant_(m.bias, 0)\n",
    "\n",
    "def resnet18():\n",
    "    return ResNet(BasicBlock, [2,2,2,2])\n",
    "\n",
    "def resnet34():\n",
    "    return ResNet(BasicBlock, [3, 4, 6, 3])"
   ]
  },
  {
   "cell_type": "markdown",
   "metadata": {
    "id": "28OQoOzjZ7o0"
   },
   "source": [
    "<br>\n",
    "\n",
    "* 만들어진 모형 확인"
   ]
  },
  {
   "cell_type": "code",
   "execution_count": 12,
   "metadata": {
    "colab": {
     "base_uri": "https://localhost:8080/"
    },
    "id": "X2qfnHkhrZFD",
    "outputId": "4d923bbb-4b88-4515-e58c-f6ab59732396"
   },
   "outputs": [
    {
     "name": "stdout",
     "output_type": "stream",
     "text": [
      "torch.Size([3, 10])\n"
     ]
    }
   ],
   "source": [
    "device = torch.device('cuda' if torch.cuda.is_available() else 'cpu')\n",
    "model = resnet34().to(device)                # model on GPU\n",
    "x = torch.randn(3, 3, 224, 224).to(device)   # data on GPU\n",
    "output = model(x)\n",
    "print(output.size())"
   ]
  },
  {
   "cell_type": "code",
   "execution_count": 13,
   "metadata": {
    "colab": {
     "base_uri": "https://localhost:8080/"
    },
    "id": "4fZXMRQ7rj1g",
    "outputId": "d3a01208-3003-47d9-a82c-c2d81b593c2e",
    "scrolled": false
   },
   "outputs": [
    {
     "name": "stdout",
     "output_type": "stream",
     "text": [
      "----------------------------------------------------------------\n",
      "        Layer (type)               Output Shape         Param #\n",
      "================================================================\n",
      "            Conv2d-1         [-1, 64, 112, 112]           9,408\n",
      "       BatchNorm2d-2         [-1, 64, 112, 112]             128\n",
      "              ReLU-3         [-1, 64, 112, 112]               0\n",
      "         MaxPool2d-4           [-1, 64, 56, 56]               0\n",
      "            Conv2d-5           [-1, 64, 56, 56]          36,864\n",
      "       BatchNorm2d-6           [-1, 64, 56, 56]             128\n",
      "              ReLU-7           [-1, 64, 56, 56]               0\n",
      "            Conv2d-8           [-1, 64, 56, 56]          36,864\n",
      "       BatchNorm2d-9           [-1, 64, 56, 56]             128\n",
      "             ReLU-10           [-1, 64, 56, 56]               0\n",
      "       BasicBlock-11           [-1, 64, 56, 56]               0\n",
      "           Conv2d-12           [-1, 64, 56, 56]          36,864\n",
      "      BatchNorm2d-13           [-1, 64, 56, 56]             128\n",
      "             ReLU-14           [-1, 64, 56, 56]               0\n",
      "           Conv2d-15           [-1, 64, 56, 56]          36,864\n",
      "      BatchNorm2d-16           [-1, 64, 56, 56]             128\n",
      "             ReLU-17           [-1, 64, 56, 56]               0\n",
      "       BasicBlock-18           [-1, 64, 56, 56]               0\n",
      "           Conv2d-19           [-1, 64, 56, 56]          36,864\n",
      "      BatchNorm2d-20           [-1, 64, 56, 56]             128\n",
      "             ReLU-21           [-1, 64, 56, 56]               0\n",
      "           Conv2d-22           [-1, 64, 56, 56]          36,864\n",
      "      BatchNorm2d-23           [-1, 64, 56, 56]             128\n",
      "             ReLU-24           [-1, 64, 56, 56]               0\n",
      "       BasicBlock-25           [-1, 64, 56, 56]               0\n",
      "           Conv2d-26          [-1, 128, 28, 28]          73,728\n",
      "      BatchNorm2d-27          [-1, 128, 28, 28]             256\n",
      "             ReLU-28          [-1, 128, 28, 28]               0\n",
      "           Conv2d-29          [-1, 128, 28, 28]         147,456\n",
      "      BatchNorm2d-30          [-1, 128, 28, 28]             256\n",
      "           Conv2d-31          [-1, 128, 28, 28]           8,192\n",
      "      BatchNorm2d-32          [-1, 128, 28, 28]             256\n",
      "             ReLU-33          [-1, 128, 28, 28]               0\n",
      "       BasicBlock-34          [-1, 128, 28, 28]               0\n",
      "           Conv2d-35          [-1, 128, 28, 28]         147,456\n",
      "      BatchNorm2d-36          [-1, 128, 28, 28]             256\n",
      "             ReLU-37          [-1, 128, 28, 28]               0\n",
      "           Conv2d-38          [-1, 128, 28, 28]         147,456\n",
      "      BatchNorm2d-39          [-1, 128, 28, 28]             256\n",
      "             ReLU-40          [-1, 128, 28, 28]               0\n",
      "       BasicBlock-41          [-1, 128, 28, 28]               0\n",
      "           Conv2d-42          [-1, 128, 28, 28]         147,456\n",
      "      BatchNorm2d-43          [-1, 128, 28, 28]             256\n",
      "             ReLU-44          [-1, 128, 28, 28]               0\n",
      "           Conv2d-45          [-1, 128, 28, 28]         147,456\n",
      "      BatchNorm2d-46          [-1, 128, 28, 28]             256\n",
      "             ReLU-47          [-1, 128, 28, 28]               0\n",
      "       BasicBlock-48          [-1, 128, 28, 28]               0\n",
      "           Conv2d-49          [-1, 128, 28, 28]         147,456\n",
      "      BatchNorm2d-50          [-1, 128, 28, 28]             256\n",
      "             ReLU-51          [-1, 128, 28, 28]               0\n",
      "           Conv2d-52          [-1, 128, 28, 28]         147,456\n",
      "      BatchNorm2d-53          [-1, 128, 28, 28]             256\n",
      "             ReLU-54          [-1, 128, 28, 28]               0\n",
      "       BasicBlock-55          [-1, 128, 28, 28]               0\n",
      "           Conv2d-56          [-1, 256, 14, 14]         294,912\n",
      "      BatchNorm2d-57          [-1, 256, 14, 14]             512\n",
      "             ReLU-58          [-1, 256, 14, 14]               0\n",
      "           Conv2d-59          [-1, 256, 14, 14]         589,824\n",
      "      BatchNorm2d-60          [-1, 256, 14, 14]             512\n",
      "           Conv2d-61          [-1, 256, 14, 14]          32,768\n",
      "      BatchNorm2d-62          [-1, 256, 14, 14]             512\n",
      "             ReLU-63          [-1, 256, 14, 14]               0\n",
      "       BasicBlock-64          [-1, 256, 14, 14]               0\n",
      "           Conv2d-65          [-1, 256, 14, 14]         589,824\n",
      "      BatchNorm2d-66          [-1, 256, 14, 14]             512\n",
      "             ReLU-67          [-1, 256, 14, 14]               0\n",
      "           Conv2d-68          [-1, 256, 14, 14]         589,824\n",
      "      BatchNorm2d-69          [-1, 256, 14, 14]             512\n",
      "             ReLU-70          [-1, 256, 14, 14]               0\n",
      "       BasicBlock-71          [-1, 256, 14, 14]               0\n",
      "           Conv2d-72          [-1, 256, 14, 14]         589,824\n",
      "      BatchNorm2d-73          [-1, 256, 14, 14]             512\n",
      "             ReLU-74          [-1, 256, 14, 14]               0\n",
      "           Conv2d-75          [-1, 256, 14, 14]         589,824\n",
      "      BatchNorm2d-76          [-1, 256, 14, 14]             512\n",
      "             ReLU-77          [-1, 256, 14, 14]               0\n",
      "       BasicBlock-78          [-1, 256, 14, 14]               0\n",
      "           Conv2d-79          [-1, 256, 14, 14]         589,824\n",
      "      BatchNorm2d-80          [-1, 256, 14, 14]             512\n",
      "             ReLU-81          [-1, 256, 14, 14]               0\n",
      "           Conv2d-82          [-1, 256, 14, 14]         589,824\n",
      "      BatchNorm2d-83          [-1, 256, 14, 14]             512\n",
      "             ReLU-84          [-1, 256, 14, 14]               0\n",
      "       BasicBlock-85          [-1, 256, 14, 14]               0\n",
      "           Conv2d-86          [-1, 256, 14, 14]         589,824\n",
      "      BatchNorm2d-87          [-1, 256, 14, 14]             512\n",
      "             ReLU-88          [-1, 256, 14, 14]               0\n",
      "           Conv2d-89          [-1, 256, 14, 14]         589,824\n",
      "      BatchNorm2d-90          [-1, 256, 14, 14]             512\n",
      "             ReLU-91          [-1, 256, 14, 14]               0\n",
      "       BasicBlock-92          [-1, 256, 14, 14]               0\n",
      "           Conv2d-93          [-1, 256, 14, 14]         589,824\n",
      "      BatchNorm2d-94          [-1, 256, 14, 14]             512\n",
      "             ReLU-95          [-1, 256, 14, 14]               0\n",
      "           Conv2d-96          [-1, 256, 14, 14]         589,824\n",
      "      BatchNorm2d-97          [-1, 256, 14, 14]             512\n",
      "             ReLU-98          [-1, 256, 14, 14]               0\n",
      "       BasicBlock-99          [-1, 256, 14, 14]               0\n",
      "          Conv2d-100            [-1, 512, 7, 7]       1,179,648\n",
      "     BatchNorm2d-101            [-1, 512, 7, 7]           1,024\n",
      "            ReLU-102            [-1, 512, 7, 7]               0\n",
      "          Conv2d-103            [-1, 512, 7, 7]       2,359,296\n",
      "     BatchNorm2d-104            [-1, 512, 7, 7]           1,024\n",
      "          Conv2d-105            [-1, 512, 7, 7]         131,072\n",
      "     BatchNorm2d-106            [-1, 512, 7, 7]           1,024\n",
      "            ReLU-107            [-1, 512, 7, 7]               0\n",
      "      BasicBlock-108            [-1, 512, 7, 7]               0\n",
      "          Conv2d-109            [-1, 512, 7, 7]       2,359,296\n",
      "     BatchNorm2d-110            [-1, 512, 7, 7]           1,024\n",
      "            ReLU-111            [-1, 512, 7, 7]               0\n",
      "          Conv2d-112            [-1, 512, 7, 7]       2,359,296\n",
      "     BatchNorm2d-113            [-1, 512, 7, 7]           1,024\n",
      "            ReLU-114            [-1, 512, 7, 7]               0\n",
      "      BasicBlock-115            [-1, 512, 7, 7]               0\n",
      "          Conv2d-116            [-1, 512, 7, 7]       2,359,296\n",
      "     BatchNorm2d-117            [-1, 512, 7, 7]           1,024\n",
      "            ReLU-118            [-1, 512, 7, 7]               0\n",
      "          Conv2d-119            [-1, 512, 7, 7]       2,359,296\n",
      "     BatchNorm2d-120            [-1, 512, 7, 7]           1,024\n",
      "            ReLU-121            [-1, 512, 7, 7]               0\n",
      "      BasicBlock-122            [-1, 512, 7, 7]               0\n",
      "AdaptiveAvgPool2d-123            [-1, 512, 1, 1]               0\n",
      "          Linear-124                   [-1, 10]           5,130\n",
      "================================================================\n",
      "Total params: 21,289,802\n",
      "Trainable params: 21,289,802\n",
      "Non-trainable params: 0\n",
      "----------------------------------------------------------------\n",
      "Input size (MB): 0.57\n",
      "Forward/backward pass size (MB): 96.28\n",
      "Params size (MB): 81.21\n",
      "Estimated Total Size (MB): 178.07\n",
      "----------------------------------------------------------------\n"
     ]
    }
   ],
   "source": [
    "summary(model, (3, 224, 224), device=device.type)"
   ]
  },
  {
   "cell_type": "markdown",
   "metadata": {
    "id": "QrUGO8pmZ7o1"
   },
   "source": [
    "* Parameter 수에 대한 계산을 해보면 정확한 수의 parameter로 모형이 만들어진 것을 알 수 있다.\n",
    "    1. 예를 들어, 가장 첫 번째 Conv layer를 생각하면 $224 \\times 224 \\times 3$ 의 데이터에 $7 \\times 7 \\times 3$ 의 필터 64개가 convolution 연산에 사용된다. 따라서\n",
    "    \n",
    "    $$(7 \\times 7 \\times 3) \\times 64 = 9,408$$\n",
    "    \n",
    "    개의 params가 필요하다.\n",
    "    \n",
    "    2. BN 과정에선 64개의 channel에 대해 $\\gamma, \\beta$ 가 필요하기 때문에\n",
    "    \n",
    "    $$2 \\times 64 = 128$$\n",
    "    \n",
    "    의 params가 필요하다.\n",
    "    \n",
    "    \n",
    "    3. ReLU 함수와 Pooling 과정에선 parameter가 필요없다. (0)\n",
    "    "
   ]
  },
  {
   "cell_type": "markdown",
   "metadata": {
    "id": "697d_NZLrjy6"
   },
   "source": [
    "<br>\n",
    "\n",
    "## 3. 모형 학습"
   ]
  },
  {
   "cell_type": "markdown",
   "metadata": {
    "id": "u7s8Ki4qZ7o1"
   },
   "source": [
    "* Loss function / Optimization Method"
   ]
  },
  {
   "cell_type": "code",
   "execution_count": 14,
   "metadata": {
    "id": "J55G_7khrjxG"
   },
   "outputs": [],
   "source": [
    "# 손실 함수로 crossentropy 함수 사용.\n",
    "# reduction='sum' : 합한 값을 리턴\n",
    "loss_func = nn.CrossEntropyLoss(reduction='sum')\n",
    "\n",
    "# Optimization 함수로 Adam을 이용.\n",
    "opt = optim.Adam(model.parameters(), lr=0.001)\n",
    "\n",
    "# 10번 동안 accuracy 개선이 이루어지지 않으면, learning rate를 0.1 (10%) 로 줄인다.\n",
    "from torch.optim.lr_scheduler import ReduceLROnPlateau\n",
    "lr_scheduler = ReduceLROnPlateau(opt, mode='min', factor=0.1, patience=10)"
   ]
  },
  {
   "cell_type": "markdown",
   "metadata": {
    "id": "KBXPYxJ6rju_"
   },
   "source": [
    "* Learning rate 저장하는 함수"
   ]
  },
  {
   "cell_type": "code",
   "execution_count": 15,
   "metadata": {
    "id": "MUlrJZUWrjso"
   },
   "outputs": [],
   "source": [
    "# function to get current lr\n",
    "def get_lr(opt):\n",
    "    for param_group in opt.param_groups:\n",
    "        return param_group['lr']"
   ]
  },
  {
   "cell_type": "markdown",
   "metadata": {
    "id": "FP9vvkiXrZC9"
   },
   "source": [
    "* 각 mini-batch 에서의 loss, metric 계산."
   ]
  },
  {
   "cell_type": "code",
   "execution_count": 16,
   "metadata": {
    "id": "YJK6PSSYrZAn"
   },
   "outputs": [],
   "source": [
    "def metric_batch(output, target):\n",
    "    pred = output.argmax(1, keepdim=True)                  # argmax의 index 출력\n",
    "    corrects = pred.eq(target.view_as(pred)).sum().item()  # 맞춘 것의 개수\n",
    "    return corrects\n",
    "\n",
    "\n",
    "def loss_batch(loss_func, output, target, opt=None):\n",
    "    loss = loss_func(output, target)\n",
    "    metric_b = metric_batch(output, target)\n",
    "\n",
    "    if opt is not None:\n",
    "        opt.zero_grad()\n",
    "        loss.backward() # back propagation 과정이 자동으로 이루어짐\n",
    "        opt.step()\n",
    "\n",
    "    return loss.item(), metric_b"
   ]
  },
  {
   "cell_type": "markdown",
   "metadata": {
    "id": "9N4-aDHWrndV"
   },
   "source": [
    "* 각 epoch 에서의 loss "
   ]
  },
  {
   "cell_type": "code",
   "execution_count": 17,
   "metadata": {
    "id": "1rHX8_D0rnbC"
   },
   "outputs": [],
   "source": [
    "# function to calculate loss and metric per epoch\n",
    "def loss_epoch(model, loss_func, dataset_dl, sanity_check=False, opt=None):\n",
    "    running_loss = 0.0\n",
    "    running_metric = 0.0\n",
    "    len_data = len(dataset_dl.dataset)\n",
    "\n",
    "    for xb, yb in dataset_dl:\n",
    "        xb = xb.to(device)\n",
    "        yb = yb.to(device)\n",
    "        output = model(xb)\n",
    "\n",
    "        loss_b, metric_b = loss_batch(loss_func, output, yb, opt)\n",
    "\n",
    "        running_loss += loss_b\n",
    "        \n",
    "        if metric_b is not None:\n",
    "            running_metric += metric_b\n",
    "        \n",
    "        if sanity_check is True:\n",
    "            break\n",
    "\n",
    "    loss = running_loss / len_data        # 각 데이터의 평균 loss값 \n",
    "    metric = running_metric / len_data    # 맞춘 개수의 비율\n",
    "\n",
    "    return loss, metric"
   ]
  },
  {
   "cell_type": "markdown",
   "metadata": {
    "id": "sr0pResrrnZL"
   },
   "source": [
    "<br><br>\n",
    "\n",
    "* 학습을 진행하는 train_val 함수"
   ]
  },
  {
   "cell_type": "code",
   "execution_count": 18,
   "metadata": {
    "id": "UgyvkXc-rnVt"
   },
   "outputs": [],
   "source": [
    "# function to start training\n",
    "def train_val(model, params): # model : ResNet-34\n",
    "    num_epochs=params['num_epochs']\n",
    "    loss_func=params[\"loss_func\"]\n",
    "    opt=params[\"optimizer\"]\n",
    "    train_dl=params[\"train_dl\"]\n",
    "    val_dl=params[\"val_dl\"]\n",
    "    sanity_check=params[\"sanity_check\"]\n",
    "    lr_scheduler=params[\"lr_scheduler\"]\n",
    "#     path2weights=params[\"path2weights\"]\n",
    "\n",
    "    loss_history = {'train': [], 'val': []}\n",
    "    metric_history = {'train': [], 'val': []}\n",
    "\n",
    "    best_loss = float('inf')\n",
    "\n",
    "    start_time = time.time()\n",
    "\n",
    "    for epoch in range(num_epochs):\n",
    "        current_lr = get_lr(opt)\n",
    "        print('Epoch {}/{}, current lr={}'.format(epoch, num_epochs-1, current_lr))\n",
    "\n",
    "        model.train()\n",
    "        train_loss, train_metric = loss_epoch(model, loss_func, train_dl, sanity_check, opt)\n",
    "        loss_history['train'].append(train_loss)\n",
    "        metric_history['train'].append(train_metric)\n",
    "\n",
    "        model.eval()\n",
    "        with torch.no_grad():\n",
    "            val_loss, val_metric = loss_epoch(model, loss_func, val_dl, sanity_check)\n",
    "        loss_history['val'].append(val_loss)\n",
    "        metric_history['val'].append(val_metric)\n",
    "\n",
    "        if val_loss < best_loss:\n",
    "            best_loss = val_loss\n",
    "\n",
    "            print('Get best val_loss')\n",
    "\n",
    "        lr_scheduler.step(val_loss)\n",
    "\n",
    "        print('train loss: %.6f, val loss: %.6f, accuracy: %.2f, time: %.4f min' %(train_loss, val_loss, 100*val_metric, (time.time()-start_time)/60))\n",
    "        print('-'*10)\n",
    "\n",
    "    return model, loss_history, metric_history"
   ]
  },
  {
   "cell_type": "markdown",
   "metadata": {
    "id": "luMzIffPrnS7"
   },
   "source": []
  },
  {
   "cell_type": "code",
   "execution_count": 20,
   "metadata": {
    "id": "7XmmBnlgrrfh"
   },
   "outputs": [],
   "source": [
    "# definc the training parameters\n",
    "params_train = {\n",
    "    'num_epochs':60,\n",
    "    'optimizer':opt,\n",
    "    'loss_func':loss_func,\n",
    "    'train_dl':train_dl,\n",
    "    'val_dl':val_dl,\n",
    "    'sanity_check':False,\n",
    "    'lr_scheduler':lr_scheduler,\n",
    "    'path2weights':'./models/weights.pt',\n",
    "}"
   ]
  },
  {
   "cell_type": "markdown",
   "metadata": {
    "id": "aLYEEMM_rrdI"
   },
   "source": [
    "<br>\n",
    "\n",
    "* 모형학습"
   ]
  },
  {
   "cell_type": "code",
   "execution_count": 21,
   "metadata": {
    "colab": {
     "base_uri": "https://localhost:8080/"
    },
    "id": "FTN07vdbrrY9",
    "outputId": "b1273cc3-b727-4c44-819f-7ca44031c3fe",
    "scrolled": false
   },
   "outputs": [
    {
     "name": "stdout",
     "output_type": "stream",
     "text": [
      "Epoch 0/59, current lr=0.001\n",
      "Get best val_loss\n",
      "train loss: 1.906893, val loss: 1.838223, accuracy: 27.80, time: 1.8935 min\n",
      "----------\n",
      "Epoch 1/59, current lr=0.001\n",
      "train loss: 1.711235, val loss: 2.005734, accuracy: 25.50, time: 3.7734 min\n",
      "----------\n",
      "Epoch 2/59, current lr=0.001\n",
      "Get best val_loss\n",
      "train loss: 1.657437, val loss: 1.702303, accuracy: 33.06, time: 5.6438 min\n",
      "----------\n",
      "Epoch 3/59, current lr=0.001\n",
      "Get best val_loss\n",
      "train loss: 1.579703, val loss: 1.636876, accuracy: 37.80, time: 7.5198 min\n",
      "----------\n",
      "Epoch 4/59, current lr=0.001\n",
      "train loss: 1.526695, val loss: 1.735830, accuracy: 35.01, time: 9.3881 min\n",
      "----------\n",
      "Epoch 5/59, current lr=0.001\n",
      "Get best val_loss\n",
      "train loss: 1.446652, val loss: 1.397253, accuracy: 47.34, time: 11.2552 min\n",
      "----------\n",
      "Epoch 6/59, current lr=0.001\n",
      "train loss: 1.373143, val loss: 1.431520, accuracy: 48.20, time: 13.1223 min\n",
      "----------\n",
      "Epoch 7/59, current lr=0.001\n",
      "Get best val_loss\n",
      "train loss: 1.280482, val loss: 1.293679, accuracy: 51.44, time: 14.9930 min\n",
      "----------\n",
      "Epoch 8/59, current lr=0.001\n",
      "Get best val_loss\n",
      "train loss: 1.206923, val loss: 1.293261, accuracy: 51.64, time: 16.8704 min\n",
      "----------\n",
      "Epoch 9/59, current lr=0.001\n",
      "Get best val_loss\n",
      "train loss: 1.144072, val loss: 1.235218, accuracy: 55.39, time: 18.7454 min\n",
      "----------\n",
      "Epoch 10/59, current lr=0.001\n",
      "train loss: 1.065722, val loss: 1.585936, accuracy: 48.10, time: 20.6229 min\n",
      "----------\n",
      "Epoch 11/59, current lr=0.001\n",
      "Get best val_loss\n",
      "train loss: 1.009217, val loss: 1.181533, accuracy: 58.33, time: 22.4981 min\n",
      "----------\n",
      "Epoch 12/59, current lr=0.001\n",
      "train loss: 0.947496, val loss: 1.381070, accuracy: 53.30, time: 24.3739 min\n",
      "----------\n",
      "Epoch 13/59, current lr=0.001\n",
      "train loss: 0.856289, val loss: 1.279058, accuracy: 55.83, time: 26.2512 min\n",
      "----------\n",
      "Epoch 14/59, current lr=0.001\n",
      "Get best val_loss\n",
      "train loss: 0.778776, val loss: 1.181465, accuracy: 59.17, time: 28.1277 min\n",
      "----------\n",
      "Epoch 15/59, current lr=0.001\n",
      "train loss: 0.690270, val loss: 1.374157, accuracy: 57.16, time: 30.0060 min\n",
      "----------\n",
      "Epoch 16/59, current lr=0.001\n",
      "train loss: 0.633957, val loss: 1.239093, accuracy: 58.58, time: 31.8788 min\n",
      "----------\n",
      "Epoch 17/59, current lr=0.001\n",
      "train loss: 0.526141, val loss: 1.298696, accuracy: 59.04, time: 33.7428 min\n",
      "----------\n",
      "Epoch 18/59, current lr=0.001\n",
      "train loss: 0.422507, val loss: 1.349279, accuracy: 61.46, time: 35.6094 min\n",
      "----------\n",
      "Epoch 19/59, current lr=0.001\n",
      "train loss: 0.379842, val loss: 1.607382, accuracy: 55.16, time: 37.4777 min\n",
      "----------\n",
      "Epoch 20/59, current lr=0.001\n",
      "train loss: 0.278846, val loss: 1.454984, accuracy: 62.32, time: 39.3506 min\n",
      "----------\n",
      "Epoch 21/59, current lr=0.001\n",
      "train loss: 0.257138, val loss: 1.529728, accuracy: 60.22, time: 41.2251 min\n",
      "----------\n",
      "Epoch 22/59, current lr=0.001\n",
      "train loss: 0.209964, val loss: 1.943922, accuracy: 57.93, time: 43.0974 min\n",
      "----------\n",
      "Epoch 23/59, current lr=0.0001\n",
      "train loss: 0.089278, val loss: 1.309136, accuracy: 66.89, time: 44.9770 min\n",
      "----------\n",
      "Epoch 24/59, current lr=0.0001\n",
      "train loss: 0.039906, val loss: 1.330076, accuracy: 67.19, time: 46.8522 min\n",
      "----------\n",
      "Epoch 25/59, current lr=0.0001\n",
      "train loss: 0.028141, val loss: 1.331277, accuracy: 67.81, time: 48.7190 min\n",
      "----------\n",
      "Epoch 26/59, current lr=0.0001\n",
      "train loss: 0.022297, val loss: 1.363443, accuracy: 67.38, time: 50.5900 min\n",
      "----------\n",
      "Epoch 27/59, current lr=0.0001\n",
      "train loss: 0.018759, val loss: 1.381591, accuracy: 67.27, time: 52.4567 min\n",
      "----------\n",
      "Epoch 28/59, current lr=0.0001\n",
      "train loss: 0.017231, val loss: 1.399006, accuracy: 67.40, time: 54.3236 min\n",
      "----------\n",
      "Epoch 29/59, current lr=0.0001\n",
      "train loss: 0.014392, val loss: 1.404628, accuracy: 67.40, time: 56.1959 min\n",
      "----------\n",
      "Epoch 30/59, current lr=0.0001\n",
      "train loss: 0.013281, val loss: 1.407874, accuracy: 67.34, time: 58.0703 min\n",
      "----------\n",
      "Epoch 31/59, current lr=0.0001\n",
      "train loss: 0.011145, val loss: 1.442742, accuracy: 67.45, time: 59.9463 min\n",
      "----------\n",
      "Epoch 32/59, current lr=0.0001\n",
      "train loss: 0.011081, val loss: 1.449811, accuracy: 67.62, time: 61.8234 min\n",
      "----------\n",
      "Epoch 33/59, current lr=0.0001\n",
      "train loss: 0.011674, val loss: 1.462479, accuracy: 67.55, time: 63.6972 min\n",
      "----------\n",
      "Epoch 34/59, current lr=1e-05\n",
      "train loss: 0.008042, val loss: 1.490112, accuracy: 67.54, time: 65.5710 min\n",
      "----------\n",
      "Epoch 35/59, current lr=1e-05\n",
      "train loss: 0.009684, val loss: 1.476966, accuracy: 67.46, time: 67.4480 min\n",
      "----------\n",
      "Epoch 36/59, current lr=1e-05\n",
      "train loss: 0.008199, val loss: 1.458135, accuracy: 67.55, time: 69.3275 min\n",
      "----------\n",
      "Epoch 37/59, current lr=1e-05\n",
      "train loss: 0.008427, val loss: 1.463535, accuracy: 67.56, time: 71.2016 min\n",
      "----------\n",
      "Epoch 38/59, current lr=1e-05\n",
      "train loss: 0.006792, val loss: 1.470919, accuracy: 67.66, time: 73.0625 min\n",
      "----------\n",
      "Epoch 39/59, current lr=1e-05\n",
      "train loss: 0.012828, val loss: 1.481919, accuracy: 67.46, time: 74.9140 min\n",
      "----------\n",
      "Epoch 40/59, current lr=1e-05\n",
      "train loss: 0.009715, val loss: 1.460907, accuracy: 67.53, time: 76.7686 min\n",
      "----------\n",
      "Epoch 41/59, current lr=1e-05\n",
      "train loss: 0.006844, val loss: 1.468899, accuracy: 67.86, time: 78.6323 min\n",
      "----------\n",
      "Epoch 42/59, current lr=1e-05\n",
      "train loss: 0.006987, val loss: 1.469574, accuracy: 67.44, time: 80.4948 min\n",
      "----------\n",
      "Epoch 43/59, current lr=1e-05\n",
      "train loss: 0.006851, val loss: 1.458670, accuracy: 67.50, time: 82.3590 min\n",
      "----------\n",
      "Epoch 44/59, current lr=1e-05\n",
      "train loss: 0.007477, val loss: 1.490147, accuracy: 67.61, time: 84.2409 min\n",
      "----------\n",
      "Epoch 45/59, current lr=1.0000000000000002e-06\n",
      "train loss: 0.006596, val loss: 1.484037, accuracy: 67.36, time: 86.1194 min\n",
      "----------\n",
      "Epoch 46/59, current lr=1.0000000000000002e-06\n",
      "train loss: 0.007562, val loss: 1.471597, accuracy: 67.83, time: 87.9919 min\n",
      "----------\n",
      "Epoch 47/59, current lr=1.0000000000000002e-06\n",
      "train loss: 0.005837, val loss: 1.491371, accuracy: 67.56, time: 89.8671 min\n",
      "----------\n",
      "Epoch 48/59, current lr=1.0000000000000002e-06\n",
      "train loss: 0.007152, val loss: 1.487296, accuracy: 67.55, time: 91.7461 min\n",
      "----------\n",
      "Epoch 49/59, current lr=1.0000000000000002e-06\n",
      "train loss: 0.007229, val loss: 1.462681, accuracy: 67.71, time: 93.6257 min\n",
      "----------\n",
      "Epoch 50/59, current lr=1.0000000000000002e-06\n",
      "train loss: 0.010226, val loss: 1.489795, accuracy: 67.59, time: 95.5038 min\n",
      "----------\n",
      "Epoch 51/59, current lr=1.0000000000000002e-06\n",
      "train loss: 0.007472, val loss: 1.456061, accuracy: 67.61, time: 97.3767 min\n",
      "----------\n",
      "Epoch 52/59, current lr=1.0000000000000002e-06\n",
      "train loss: 0.006910, val loss: 1.476505, accuracy: 67.66, time: 99.2508 min\n",
      "----------\n",
      "Epoch 53/59, current lr=1.0000000000000002e-06\n",
      "train loss: 0.006867, val loss: 1.472661, accuracy: 67.50, time: 101.1384 min\n",
      "----------\n",
      "Epoch 54/59, current lr=1.0000000000000002e-06\n",
      "train loss: 0.006987, val loss: 1.470128, accuracy: 67.54, time: 103.0151 min\n",
      "----------\n",
      "Epoch 55/59, current lr=1.0000000000000002e-06\n",
      "train loss: 0.007252, val loss: 1.492600, accuracy: 67.74, time: 104.8890 min\n",
      "----------\n",
      "Epoch 56/59, current lr=1.0000000000000002e-07\n",
      "train loss: 0.006550, val loss: 1.506922, accuracy: 67.47, time: 106.7570 min\n",
      "----------\n",
      "Epoch 57/59, current lr=1.0000000000000002e-07\n",
      "train loss: 0.006761, val loss: 1.499378, accuracy: 67.59, time: 108.6297 min\n",
      "----------\n",
      "Epoch 58/59, current lr=1.0000000000000002e-07\n",
      "train loss: 0.005710, val loss: 1.472349, accuracy: 67.55, time: 110.4974 min\n",
      "----------\n",
      "Epoch 59/59, current lr=1.0000000000000002e-07\n",
      "train loss: 0.006239, val loss: 1.481498, accuracy: 67.42, time: 112.3638 min\n",
      "----------\n"
     ]
    }
   ],
   "source": [
    "model, loss_hist, metric_hist = train_val(model, params_train)"
   ]
  },
  {
   "cell_type": "markdown",
   "metadata": {
    "id": "GN_lHldKrrW3"
   },
   "source": [
    "<br>\n",
    "\n",
    "* Loss 시각화"
   ]
  },
  {
   "cell_type": "code",
   "execution_count": 22,
   "metadata": {
    "colab": {
     "base_uri": "https://localhost:8080/",
     "height": 573
    },
    "id": "Hq9a8QvErrUy",
    "outputId": "9d3b4969-fc47-46fd-8482-992a9c4c6e66"
   },
   "outputs": [
    {
     "data": {
      "image/png": "[encoded data removed]",
      "text/plain": [
       "<Figure size 432x288 with 1 Axes>"
      ]
     },
     "metadata": {
      "needs_background": "light"
     },
     "output_type": "display_data"
    },
    {
     "data": {
      "image/png": "[encoded data removed]",
      "text/plain": [
       "<Figure size 432x288 with 1 Axes>"
      ]
     },
     "metadata": {
      "needs_background": "light"
     },
     "output_type": "display_data"
    }
   ],
   "source": [
    "# Train-Validation Progress\n",
    "num_epochs=params_train[\"num_epochs\"]\n",
    "\n",
    "# plot loss progress\n",
    "plt.title(\"Train-Val Loss\")\n",
    "plt.plot(range(1,num_epochs+1),loss_hist[\"train\"],label=\"train\")\n",
    "plt.plot(range(1,num_epochs+1),loss_hist[\"val\"],label=\"val\")\n",
    "plt.ylabel(\"Loss\")\n",
    "plt.xlabel(\"Training Epochs\")\n",
    "plt.legend()\n",
    "plt.show()\n",
    "\n",
    "# plot accuracy progress\n",
    "plt.title(\"Train-Val Accuracy\")\n",
    "plt.plot(range(1,num_epochs+1),metric_hist[\"train\"],label=\"train\")\n",
    "plt.plot(range(1,num_epochs+1),metric_hist[\"val\"],label=\"val\")\n",
    "plt.ylabel(\"Accuracy\")\n",
    "plt.xlabel(\"Training Epochs\")\n",
    "plt.legend()\n",
    "plt.show()"
   ]
  },
  {
   "cell_type": "markdown",
   "metadata": {},
   "source": [
    "<br><br>\n",
    "\n",
    "--- \n",
    "\n",
    "* Reference\n",
    "\n",
    "[Deep Residual Learning for Image Recognition, Kaiming He, 2015](https://arxiv.org/pdf/1512.03385.pdf)\n",
    "\n",
    "https://d2l.ai/chapter_convolutional-modern/resnet.html\n",
    "\n",
    "https://deep-learning-study.tistory.com/534"
   ]
  }
 ],
 "metadata": {
  "accelerator": "GPU",
  "colab": {
   "collapsed_sections": [],
   "name": "Untitled0_30epochs_Copy2_ipynb의_사본.ipynb",
   "provenance": []
  },
  "kernelspec": {
   "display_name": "Python 3",
   "language": "python",
   "name": "python3"
  },
  "language_info": {
   "codemirror_mode": {
    "name": "ipython",
    "version": 3
   },
   "file_extension": ".py",
   "mimetype": "text/x-python",
   "name": "python",
   "nbconvert_exporter": "python",
   "pygments_lexer": "ipython3",
   "version": "3.8.8"
  },
  "toc": {
   "base_numbering": 1,
   "nav_menu": {},
   "number_sections": false,
   "sideBar": true,
   "skip_h1_title": false,
   "title_cell": "Table of Contents",
   "title_sidebar": "Contents",
   "toc_cell": true,
   "toc_position": {},
   "toc_section_display": true,
   "toc_window_display": true
  },
  "varInspector": {
   "cols": {
    "lenName": 16,
    "lenType": 16,
    "lenVar": 40
   },
   "kernels_config": {
    "python": {
     "delete_cmd_postfix": "",
     "delete_cmd_prefix": "del ",
     "library": "var_list.py",
     "varRefreshCmd": "print(var_dic_list())"
    },
    "r": {
     "delete_cmd_postfix": ") ",
     "delete_cmd_prefix": "rm(",
     "library": "var_list.r",
     "varRefreshCmd": "cat(var_dic_list()) "
    }
   },
   "types_to_exclude": [
    "module",
    "function",
    "builtin_function_or_method",
    "instance",
    "_Feature"
   ],
   "window_display": false
  },
  "widgets": {
   "application/vnd.jupyter.widget-state+json": {
    "05b3b5d44cff48fd81c16ece310202cd": {
     "model_module": "@jupyter-widgets/controls",
     "model_module_version": "1.5.0",
     "model_name": "ProgressStyleModel",
     "state": {
      "_model_module": "@jupyter-widgets/controls",
      "_model_module_version": "1.5.0",
      "_model_name": "ProgressStyleModel",
      "_view_count": null,
      "_view_module": "@jupyter-widgets/base",
      "_view_module_version": "1.2.0",
      "_view_name": "StyleView",
      "bar_color": null,
      "description_width": ""
     }
    },
    "3ba1859b61e043aa90f5654b3cee81df": {
     "model_module": "@jupyter-widgets/base",
     "model_module_version": "1.2.0",
     "model_name": "LayoutModel",
     "state": {
      "_model_module": "@jupyter-widgets/base",
      "_model_module_version": "1.2.0",
      "_model_name": "LayoutModel",
      "_view_count": null,
      "_view_module": "@jupyter-widgets/base",
      "_view_module_version": "1.2.0",
      "_view_name": "LayoutView",
      "align_content": null,
      "align_items": null,
      "align_self": null,
      "border": null,
      "bottom": null,
      "display": null,
      "flex": null,
      "flex_flow": null,
      "grid_area": null,
      "grid_auto_columns": null,
      "grid_auto_flow": null,
      "grid_auto_rows": null,
      "grid_column": null,
      "grid_gap": null,
      "grid_row": null,
      "grid_template_areas": null,
      "grid_template_columns": null,
      "grid_template_rows": null,
      "height": null,
      "justify_content": null,
      "justify_items": null,
      "left": null,
      "margin": null,
      "max_height": null,
      "max_width": null,
      "min_height": null,
      "min_width": null,
      "object_fit": null,
      "object_position": null,
      "order": null,
      "overflow": null,
      "overflow_x": null,
      "overflow_y": null,
      "padding": null,
      "right": null,
      "top": null,
      "visibility": null,
      "width": null
     }
    },
    "5485845915ef4a7881f7eff2c665fe85": {
     "model_module": "@jupyter-widgets/controls",
     "model_module_version": "1.5.0",
     "model_name": "DescriptionStyleModel",
     "state": {
      "_model_module": "@jupyter-widgets/controls",
      "_model_module_version": "1.5.0",
      "_model_name": "DescriptionStyleModel",
      "_view_count": null,
      "_view_module": "@jupyter-widgets/base",
      "_view_module_version": "1.2.0",
      "_view_name": "StyleView",
      "description_width": ""
     }
    },
    "8c6d268540134303b4e5dca006efa783": {
     "model_module": "@jupyter-widgets/base",
     "model_module_version": "1.2.0",
     "model_name": "LayoutModel",
     "state": {
      "_model_module": "@jupyter-widgets/base",
      "_model_module_version": "1.2.0",
      "_model_name": "LayoutModel",
      "_view_count": null,
      "_view_module": "@jupyter-widgets/base",
      "_view_module_version": "1.2.0",
      "_view_name": "LayoutView",
      "align_content": null,
      "align_items": null,
      "align_self": null,
      "border": null,
      "bottom": null,
      "display": null,
      "flex": null,
      "flex_flow": null,
      "grid_area": null,
      "grid_auto_columns": null,
      "grid_auto_flow": null,
      "grid_auto_rows": null,
      "grid_column": null,
      "grid_gap": null,
      "grid_row": null,
      "grid_template_areas": null,
      "grid_template_columns": null,
      "grid_template_rows": null,
      "height": null,
      "justify_content": null,
      "justify_items": null,
      "left": null,
      "margin": null,
      "max_height": null,
      "max_width": null,
      "min_height": null,
      "min_width": null,
      "object_fit": null,
      "object_position": null,
      "order": null,
      "overflow": null,
      "overflow_x": null,
      "overflow_y": null,
      "padding": null,
      "right": null,
      "top": null,
      "visibility": null,
      "width": null
     }
    },
    "a5d1fa47473a4881be9c1d4978544572": {
     "model_module": "@jupyter-widgets/controls",
     "model_module_version": "1.5.0",
     "model_name": "DescriptionStyleModel",
     "state": {
      "_model_module": "@jupyter-widgets/controls",
      "_model_module_version": "1.5.0",
      "_model_name": "DescriptionStyleModel",
      "_view_count": null,
      "_view_module": "@jupyter-widgets/base",
      "_view_module_version": "1.2.0",
      "_view_name": "StyleView",
      "description_width": ""
     }
    },
    "b718a69fdf3c433f94dcd4452e718ad1": {
     "model_module": "@jupyter-widgets/controls",
     "model_module_version": "1.5.0",
     "model_name": "FloatProgressModel",
     "state": {
      "_dom_classes": [],
      "_model_module": "@jupyter-widgets/controls",
      "_model_module_version": "1.5.0",
      "_model_name": "FloatProgressModel",
      "_view_count": null,
      "_view_module": "@jupyter-widgets/controls",
      "_view_module_version": "1.5.0",
      "_view_name": "ProgressView",
      "bar_style": "success",
      "description": "",
      "description_tooltip": null,
      "layout": "IPY_MODEL_3ba1859b61e043aa90f5654b3cee81df",
      "max": 2640397119,
      "min": 0,
      "orientation": "horizontal",
      "style": "IPY_MODEL_05b3b5d44cff48fd81c16ece310202cd",
      "value": 2640397119
     }
    },
    "cf7d5bfa6e2b49708f00010f1d81d309": {
     "model_module": "@jupyter-widgets/controls",
     "model_module_version": "1.5.0",
     "model_name": "HTMLModel",
     "state": {
      "_dom_classes": [],
      "_model_module": "@jupyter-widgets/controls",
      "_model_module_version": "1.5.0",
      "_model_name": "HTMLModel",
      "_view_count": null,
      "_view_module": "@jupyter-widgets/controls",
      "_view_module_version": "1.5.0",
      "_view_name": "HTMLView",
      "description": "",
      "description_tooltip": null,
      "layout": "IPY_MODEL_e10dc7702a0347b4b97c961070a0a9ce",
      "placeholder": "​",
      "style": "IPY_MODEL_a5d1fa47473a4881be9c1d4978544572",
      "value": " 2640397312/? [02:11&lt;00:00, 21155980.94it/s]"
     }
    },
    "d862c86b38df423e824d063a099e71d4": {
     "model_module": "@jupyter-widgets/controls",
     "model_module_version": "1.5.0",
     "model_name": "HBoxModel",
     "state": {
      "_dom_classes": [],
      "_model_module": "@jupyter-widgets/controls",
      "_model_module_version": "1.5.0",
      "_model_name": "HBoxModel",
      "_view_count": null,
      "_view_module": "@jupyter-widgets/controls",
      "_view_module_version": "1.5.0",
      "_view_name": "HBoxView",
      "box_style": "",
      "children": [
       "IPY_MODEL_deae1c9e51194615a56821178e864751",
       "IPY_MODEL_b718a69fdf3c433f94dcd4452e718ad1",
       "IPY_MODEL_cf7d5bfa6e2b49708f00010f1d81d309"
      ],
      "layout": "IPY_MODEL_f2196e9d116e4b67a2fcb10da303d183"
     }
    },
    "deae1c9e51194615a56821178e864751": {
     "model_module": "@jupyter-widgets/controls",
     "model_module_version": "1.5.0",
     "model_name": "HTMLModel",
     "state": {
      "_dom_classes": [],
      "_model_module": "@jupyter-widgets/controls",
      "_model_module_version": "1.5.0",
      "_model_name": "HTMLModel",
      "_view_count": null,
      "_view_module": "@jupyter-widgets/controls",
      "_view_module_version": "1.5.0",
      "_view_name": "HTMLView",
      "description": "",
      "description_tooltip": null,
      "layout": "IPY_MODEL_8c6d268540134303b4e5dca006efa783",
      "placeholder": "​",
      "style": "IPY_MODEL_5485845915ef4a7881f7eff2c665fe85",
      "value": ""
     }
    },
    "e10dc7702a0347b4b97c961070a0a9ce": {
     "model_module": "@jupyter-widgets/base",
     "model_module_version": "1.2.0",
     "model_name": "LayoutModel",
     "state": {
      "_model_module": "@jupyter-widgets/base",
      "_model_module_version": "1.2.0",
      "_model_name": "LayoutModel",
      "_view_count": null,
      "_view_module": "@jupyter-widgets/base",
      "_view_module_version": "1.2.0",
      "_view_name": "LayoutView",
      "align_content": null,
      "align_items": null,
      "align_self": null,
      "border": null,
      "bottom": null,
      "display": null,
      "flex": null,
      "flex_flow": null,
      "grid_area": null,
      "grid_auto_columns": null,
      "grid_auto_flow": null,
      "grid_auto_rows": null,
      "grid_column": null,
      "grid_gap": null,
      "grid_row": null,
      "grid_template_areas": null,
      "grid_template_columns": null,
      "grid_template_rows": null,
      "height": null,
      "justify_content": null,
      "justify_items": null,
      "left": null,
      "margin": null,
      "max_height": null,
      "max_width": null,
      "min_height": null,
      "min_width": null,
      "object_fit": null,
      "object_position": null,
      "order": null,
      "overflow": null,
      "overflow_x": null,
      "overflow_y": null,
      "padding": null,
      "right": null,
      "top": null,
      "visibility": null,
      "width": null
     }
    },
    "f2196e9d116e4b67a2fcb10da303d183": {
     "model_module": "@jupyter-widgets/base",
     "model_module_version": "1.2.0",
     "model_name": "LayoutModel",
     "state": {
      "_model_module": "@jupyter-widgets/base",
      "_model_module_version": "1.2.0",
      "_model_name": "LayoutModel",
      "_view_count": null,
      "_view_module": "@jupyter-widgets/base",
      "_view_module_version": "1.2.0",
      "_view_name": "LayoutView",
      "align_content": null,
      "align_items": null,
      "align_self": null,
      "border": null,
      "bottom": null,
      "display": null,
      "flex": null,
      "flex_flow": null,
      "grid_area": null,
      "grid_auto_columns": null,
      "grid_auto_flow": null,
      "grid_auto_rows": null,
      "grid_column": null,
      "grid_gap": null,
      "grid_row": null,
      "grid_template_areas": null,
      "grid_template_columns": null,
      "grid_template_rows": null,
      "height": null,
      "justify_content": null,
      "justify_items": null,
      "left": null,
      "margin": null,
      "max_height": null,
      "max_width": null,
      "min_height": null,
      "min_width": null,
      "object_fit": null,
      "object_position": null,
      "order": null,
      "overflow": null,
      "overflow_x": null,
      "overflow_y": null,
      "padding": null,
      "right": null,
      "top": null,
      "visibility": null,
      "width": null
     }
    }
   }
  }
 },
 "nbformat": 4,
 "nbformat_minor": 1
}
